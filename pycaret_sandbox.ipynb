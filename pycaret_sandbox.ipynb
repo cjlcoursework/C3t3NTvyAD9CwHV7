{
 "cells": [
  {
   "cell_type": "code",
   "execution_count": 1,
   "id": "initial_id",
   "metadata": {
    "ExecuteTime": {
     "end_time": "2023-09-24T02:08:40.579991Z",
     "start_time": "2023-09-24T02:08:40.553585Z"
    }
   },
   "outputs": [],
   "source": [
    "\n",
    "from sklearn.metrics import confusion_matrix, ConfusionMatrixDisplay, precision_score, recall_score, f1_score, roc_curve\n",
    "\n",
    "from pycaret.classification import *\n",
    "import xgboost as xgb\n",
    "import pandas as pd\n",
    "import numpy as np\n",
    "from tqdm.autonotebook import tqdm\n",
    "import warnings"
   ]
  },
  {
   "cell_type": "markdown",
   "id": "ac989f917d1a0ed8",
   "metadata": {},
   "source": [
    "Y = target attribute (Y) with values indicating 0 (unhappy) and 1 (happy) customers\n",
    "X1 = my order was delivered on time\n",
    "X2 = contents of my order was as I expected\n",
    "X3 = I ordered everything I wanted to order\n",
    "X4 = I paid a good price for my order\n",
    "X5 = I am satisfied with my courier\n",
    "X6 = the app makes ordering easy for me\n"
   ]
  },
  {
   "cell_type": "code",
   "execution_count": 2,
   "id": "a14806870c1473ac",
   "metadata": {
    "ExecuteTime": {
     "end_time": "2023-09-24T02:08:40.582108Z",
     "start_time": "2023-09-24T02:08:40.560288Z"
    }
   },
   "outputs": [],
   "source": [
    "df = pd.read_csv('ACME-HappinessSurvey2020.csv', header=0, names=[\n",
    "                     'happy', \n",
    "                     'order_delivered',\n",
    "                     'order_correct',\n",
    "                     'menu_complete',\n",
    "                     'price',\n",
    "                     'courier',\n",
    "                     'app'\n",
    "                 ])"
   ]
  },
  {
   "cell_type": "code",
   "execution_count": 3,
   "id": "27d6e1885daf2720",
   "metadata": {
    "ExecuteTime": {
     "end_time": "2023-09-24T02:08:40.603086Z",
     "start_time": "2023-09-24T02:08:40.567262Z"
    }
   },
   "outputs": [
    {
     "data": {
      "text/plain": [
       "happy              int64\n",
       "order_delivered    int64\n",
       "order_correct      int64\n",
       "menu_complete      int64\n",
       "price              int64\n",
       "courier            int64\n",
       "app                int64\n",
       "dtype: object"
      ]
     },
     "execution_count": 3,
     "metadata": {},
     "output_type": "execute_result"
    }
   ],
   "source": [
    "df.dtypes\n",
    "\n"
   ]
  },
  {
   "cell_type": "code",
   "execution_count": 4,
   "id": "463920153c0b6f8",
   "metadata": {
    "ExecuteTime": {
     "end_time": "2023-09-24T02:10:06.865191Z",
     "start_time": "2023-09-24T02:10:06.683033Z"
    }
   },
   "outputs": [],
   "source": [
    "# from imblearn.over_sampling import SMOTE\n",
    "\n",
    "# labels = ['order_delivered', 'order_correct', 'menu_complete', 'price',\n",
    "#        'courier', 'app']\n",
    "\n",
    "\n",
    "# smote = SMOTE( n_jobs=-1)\n",
    "# X_sm, y_sm = smote.fit_resample(df[labels], df['happy'])\n",
    "\n",
    "# df = pd.DataFrame(X_sm, columns=labels)\n",
    "# df['target'] = y_sm\n",
    "\n",
    "# df['target'].value_counts().plot(kind='bar', title='Count (target)');"
   ]
  },
  {
   "cell_type": "code",
   "execution_count": 5,
   "id": "22af43ba36a53780",
   "metadata": {
    "ExecuteTime": {
     "end_time": "2023-09-24T02:12:06.661449Z",
     "start_time": "2023-09-24T02:12:06.648323Z"
    }
   },
   "outputs": [
    {
     "data": {
      "text/plain": [
       "(126, 7)"
      ]
     },
     "execution_count": 5,
     "metadata": {},
     "output_type": "execute_result"
    }
   ],
   "source": [
    "df.shape"
   ]
  },
  {
   "cell_type": "code",
   "execution_count": 6,
   "id": "8c2c5f59ff11368e",
   "metadata": {
    "ExecuteTime": {
     "end_time": "2023-09-24T02:13:08.515158Z",
     "start_time": "2023-09-24T02:13:08.507033Z"
    }
   },
   "outputs": [
    {
     "data": {
      "text/html": [
       "<div>\n",
       "<style scoped>\n",
       "    .dataframe tbody tr th:only-of-type {\n",
       "        vertical-align: middle;\n",
       "    }\n",
       "\n",
       "    .dataframe tbody tr th {\n",
       "        vertical-align: top;\n",
       "    }\n",
       "\n",
       "    .dataframe thead th {\n",
       "        text-align: right;\n",
       "    }\n",
       "</style>\n",
       "<table border=\"1\" class=\"dataframe\">\n",
       "  <thead>\n",
       "    <tr style=\"text-align: right;\">\n",
       "      <th></th>\n",
       "      <th>happy</th>\n",
       "      <th>order_delivered</th>\n",
       "      <th>order_correct</th>\n",
       "      <th>menu_complete</th>\n",
       "      <th>price</th>\n",
       "      <th>courier</th>\n",
       "      <th>app</th>\n",
       "    </tr>\n",
       "  </thead>\n",
       "  <tbody>\n",
       "    <tr>\n",
       "      <th>0</th>\n",
       "      <td>0</td>\n",
       "      <td>3</td>\n",
       "      <td>3</td>\n",
       "      <td>3</td>\n",
       "      <td>4</td>\n",
       "      <td>2</td>\n",
       "      <td>4</td>\n",
       "    </tr>\n",
       "    <tr>\n",
       "      <th>1</th>\n",
       "      <td>0</td>\n",
       "      <td>3</td>\n",
       "      <td>2</td>\n",
       "      <td>3</td>\n",
       "      <td>5</td>\n",
       "      <td>4</td>\n",
       "      <td>3</td>\n",
       "    </tr>\n",
       "    <tr>\n",
       "      <th>2</th>\n",
       "      <td>1</td>\n",
       "      <td>5</td>\n",
       "      <td>3</td>\n",
       "      <td>3</td>\n",
       "      <td>3</td>\n",
       "      <td>3</td>\n",
       "      <td>5</td>\n",
       "    </tr>\n",
       "    <tr>\n",
       "      <th>3</th>\n",
       "      <td>0</td>\n",
       "      <td>5</td>\n",
       "      <td>4</td>\n",
       "      <td>3</td>\n",
       "      <td>3</td>\n",
       "      <td>3</td>\n",
       "      <td>5</td>\n",
       "    </tr>\n",
       "    <tr>\n",
       "      <th>4</th>\n",
       "      <td>0</td>\n",
       "      <td>5</td>\n",
       "      <td>4</td>\n",
       "      <td>3</td>\n",
       "      <td>3</td>\n",
       "      <td>3</td>\n",
       "      <td>5</td>\n",
       "    </tr>\n",
       "    <tr>\n",
       "      <th>...</th>\n",
       "      <td>...</td>\n",
       "      <td>...</td>\n",
       "      <td>...</td>\n",
       "      <td>...</td>\n",
       "      <td>...</td>\n",
       "      <td>...</td>\n",
       "      <td>...</td>\n",
       "    </tr>\n",
       "    <tr>\n",
       "      <th>121</th>\n",
       "      <td>1</td>\n",
       "      <td>5</td>\n",
       "      <td>2</td>\n",
       "      <td>3</td>\n",
       "      <td>4</td>\n",
       "      <td>4</td>\n",
       "      <td>3</td>\n",
       "    </tr>\n",
       "    <tr>\n",
       "      <th>122</th>\n",
       "      <td>1</td>\n",
       "      <td>5</td>\n",
       "      <td>2</td>\n",
       "      <td>3</td>\n",
       "      <td>4</td>\n",
       "      <td>2</td>\n",
       "      <td>5</td>\n",
       "    </tr>\n",
       "    <tr>\n",
       "      <th>123</th>\n",
       "      <td>1</td>\n",
       "      <td>5</td>\n",
       "      <td>3</td>\n",
       "      <td>3</td>\n",
       "      <td>4</td>\n",
       "      <td>4</td>\n",
       "      <td>5</td>\n",
       "    </tr>\n",
       "    <tr>\n",
       "      <th>124</th>\n",
       "      <td>0</td>\n",
       "      <td>4</td>\n",
       "      <td>3</td>\n",
       "      <td>3</td>\n",
       "      <td>4</td>\n",
       "      <td>4</td>\n",
       "      <td>5</td>\n",
       "    </tr>\n",
       "    <tr>\n",
       "      <th>125</th>\n",
       "      <td>0</td>\n",
       "      <td>5</td>\n",
       "      <td>3</td>\n",
       "      <td>2</td>\n",
       "      <td>5</td>\n",
       "      <td>5</td>\n",
       "      <td>5</td>\n",
       "    </tr>\n",
       "  </tbody>\n",
       "</table>\n",
       "<p>126 rows × 7 columns</p>\n",
       "</div>"
      ],
      "text/plain": [
       "     happy  order_delivered  order_correct  menu_complete  price  courier  app\n",
       "0        0                3              3              3      4        2    4\n",
       "1        0                3              2              3      5        4    3\n",
       "2        1                5              3              3      3        3    5\n",
       "3        0                5              4              3      3        3    5\n",
       "4        0                5              4              3      3        3    5\n",
       "..     ...              ...            ...            ...    ...      ...  ...\n",
       "121      1                5              2              3      4        4    3\n",
       "122      1                5              2              3      4        2    5\n",
       "123      1                5              3              3      4        4    5\n",
       "124      0                4              3              3      4        4    5\n",
       "125      0                5              3              2      5        5    5\n",
       "\n",
       "[126 rows x 7 columns]"
      ]
     },
     "execution_count": 6,
     "metadata": {},
     "output_type": "execute_result"
    }
   ],
   "source": [
    "df"
   ]
  },
  {
   "cell_type": "code",
   "execution_count": 7,
   "id": "6b0fc08064aeda96",
   "metadata": {
    "ExecuteTime": {
     "end_time": "2023-09-24T02:10:57.378660Z",
     "start_time": "2023-09-24T02:10:57.357554Z"
    }
   },
   "outputs": [],
   "source": [
    "# df_one = pd.get_dummies(df, columns=labels)\n",
    "# df_one"
   ]
  },
  {
   "cell_type": "code",
   "execution_count": 9,
   "id": "25ee11c4f924146d",
   "metadata": {
    "ExecuteTime": {
     "end_time": "2023-09-24T01:49:04.761196Z",
     "start_time": "2023-09-24T01:49:04.391579Z"
    }
   },
   "outputs": [
    {
     "data": {
      "text/html": [
       "<style type=\"text/css\">\n",
       "#T_2a948_row8_col1 {\n",
       "  background-color: lightgreen;\n",
       "}\n",
       "</style>\n",
       "<table id=\"T_2a948\">\n",
       "  <thead>\n",
       "    <tr>\n",
       "      <th class=\"blank level0\" >&nbsp;</th>\n",
       "      <th id=\"T_2a948_level0_col0\" class=\"col_heading level0 col0\" >Description</th>\n",
       "      <th id=\"T_2a948_level0_col1\" class=\"col_heading level0 col1\" >Value</th>\n",
       "    </tr>\n",
       "  </thead>\n",
       "  <tbody>\n",
       "    <tr>\n",
       "      <th id=\"T_2a948_level0_row0\" class=\"row_heading level0 row0\" >0</th>\n",
       "      <td id=\"T_2a948_row0_col0\" class=\"data row0 col0\" >Session id</td>\n",
       "      <td id=\"T_2a948_row0_col1\" class=\"data row0 col1\" >7529</td>\n",
       "    </tr>\n",
       "    <tr>\n",
       "      <th id=\"T_2a948_level0_row1\" class=\"row_heading level0 row1\" >1</th>\n",
       "      <td id=\"T_2a948_row1_col0\" class=\"data row1 col0\" >Target</td>\n",
       "      <td id=\"T_2a948_row1_col1\" class=\"data row1 col1\" >happy</td>\n",
       "    </tr>\n",
       "    <tr>\n",
       "      <th id=\"T_2a948_level0_row2\" class=\"row_heading level0 row2\" >2</th>\n",
       "      <td id=\"T_2a948_row2_col0\" class=\"data row2 col0\" >Target type</td>\n",
       "      <td id=\"T_2a948_row2_col1\" class=\"data row2 col1\" >Binary</td>\n",
       "    </tr>\n",
       "    <tr>\n",
       "      <th id=\"T_2a948_level0_row3\" class=\"row_heading level0 row3\" >3</th>\n",
       "      <td id=\"T_2a948_row3_col0\" class=\"data row3 col0\" >Original data shape</td>\n",
       "      <td id=\"T_2a948_row3_col1\" class=\"data row3 col1\" >(126, 7)</td>\n",
       "    </tr>\n",
       "    <tr>\n",
       "      <th id=\"T_2a948_level0_row4\" class=\"row_heading level0 row4\" >4</th>\n",
       "      <td id=\"T_2a948_row4_col0\" class=\"data row4 col0\" >Transformed data shape</td>\n",
       "      <td id=\"T_2a948_row4_col1\" class=\"data row4 col1\" >(126, 7)</td>\n",
       "    </tr>\n",
       "    <tr>\n",
       "      <th id=\"T_2a948_level0_row5\" class=\"row_heading level0 row5\" >5</th>\n",
       "      <td id=\"T_2a948_row5_col0\" class=\"data row5 col0\" >Transformed train set shape</td>\n",
       "      <td id=\"T_2a948_row5_col1\" class=\"data row5 col1\" >(88, 7)</td>\n",
       "    </tr>\n",
       "    <tr>\n",
       "      <th id=\"T_2a948_level0_row6\" class=\"row_heading level0 row6\" >6</th>\n",
       "      <td id=\"T_2a948_row6_col0\" class=\"data row6 col0\" >Transformed test set shape</td>\n",
       "      <td id=\"T_2a948_row6_col1\" class=\"data row6 col1\" >(38, 7)</td>\n",
       "    </tr>\n",
       "    <tr>\n",
       "      <th id=\"T_2a948_level0_row7\" class=\"row_heading level0 row7\" >7</th>\n",
       "      <td id=\"T_2a948_row7_col0\" class=\"data row7 col0\" >Numeric features</td>\n",
       "      <td id=\"T_2a948_row7_col1\" class=\"data row7 col1\" >6</td>\n",
       "    </tr>\n",
       "    <tr>\n",
       "      <th id=\"T_2a948_level0_row8\" class=\"row_heading level0 row8\" >8</th>\n",
       "      <td id=\"T_2a948_row8_col0\" class=\"data row8 col0\" >Preprocess</td>\n",
       "      <td id=\"T_2a948_row8_col1\" class=\"data row8 col1\" >True</td>\n",
       "    </tr>\n",
       "    <tr>\n",
       "      <th id=\"T_2a948_level0_row9\" class=\"row_heading level0 row9\" >9</th>\n",
       "      <td id=\"T_2a948_row9_col0\" class=\"data row9 col0\" >Imputation type</td>\n",
       "      <td id=\"T_2a948_row9_col1\" class=\"data row9 col1\" >simple</td>\n",
       "    </tr>\n",
       "    <tr>\n",
       "      <th id=\"T_2a948_level0_row10\" class=\"row_heading level0 row10\" >10</th>\n",
       "      <td id=\"T_2a948_row10_col0\" class=\"data row10 col0\" >Numeric imputation</td>\n",
       "      <td id=\"T_2a948_row10_col1\" class=\"data row10 col1\" >mean</td>\n",
       "    </tr>\n",
       "    <tr>\n",
       "      <th id=\"T_2a948_level0_row11\" class=\"row_heading level0 row11\" >11</th>\n",
       "      <td id=\"T_2a948_row11_col0\" class=\"data row11 col0\" >Categorical imputation</td>\n",
       "      <td id=\"T_2a948_row11_col1\" class=\"data row11 col1\" >mode</td>\n",
       "    </tr>\n",
       "    <tr>\n",
       "      <th id=\"T_2a948_level0_row12\" class=\"row_heading level0 row12\" >12</th>\n",
       "      <td id=\"T_2a948_row12_col0\" class=\"data row12 col0\" >Fold Generator</td>\n",
       "      <td id=\"T_2a948_row12_col1\" class=\"data row12 col1\" >StratifiedKFold</td>\n",
       "    </tr>\n",
       "    <tr>\n",
       "      <th id=\"T_2a948_level0_row13\" class=\"row_heading level0 row13\" >13</th>\n",
       "      <td id=\"T_2a948_row13_col0\" class=\"data row13 col0\" >Fold Number</td>\n",
       "      <td id=\"T_2a948_row13_col1\" class=\"data row13 col1\" >10</td>\n",
       "    </tr>\n",
       "    <tr>\n",
       "      <th id=\"T_2a948_level0_row14\" class=\"row_heading level0 row14\" >14</th>\n",
       "      <td id=\"T_2a948_row14_col0\" class=\"data row14 col0\" >CPU Jobs</td>\n",
       "      <td id=\"T_2a948_row14_col1\" class=\"data row14 col1\" >-1</td>\n",
       "    </tr>\n",
       "    <tr>\n",
       "      <th id=\"T_2a948_level0_row15\" class=\"row_heading level0 row15\" >15</th>\n",
       "      <td id=\"T_2a948_row15_col0\" class=\"data row15 col0\" >Use GPU</td>\n",
       "      <td id=\"T_2a948_row15_col1\" class=\"data row15 col1\" >False</td>\n",
       "    </tr>\n",
       "    <tr>\n",
       "      <th id=\"T_2a948_level0_row16\" class=\"row_heading level0 row16\" >16</th>\n",
       "      <td id=\"T_2a948_row16_col0\" class=\"data row16 col0\" >Log Experiment</td>\n",
       "      <td id=\"T_2a948_row16_col1\" class=\"data row16 col1\" >False</td>\n",
       "    </tr>\n",
       "    <tr>\n",
       "      <th id=\"T_2a948_level0_row17\" class=\"row_heading level0 row17\" >17</th>\n",
       "      <td id=\"T_2a948_row17_col0\" class=\"data row17 col0\" >Experiment Name</td>\n",
       "      <td id=\"T_2a948_row17_col1\" class=\"data row17 col1\" >clf-default-name</td>\n",
       "    </tr>\n",
       "    <tr>\n",
       "      <th id=\"T_2a948_level0_row18\" class=\"row_heading level0 row18\" >18</th>\n",
       "      <td id=\"T_2a948_row18_col0\" class=\"data row18 col0\" >USI</td>\n",
       "      <td id=\"T_2a948_row18_col1\" class=\"data row18 col1\" >dc01</td>\n",
       "    </tr>\n",
       "  </tbody>\n",
       "</table>\n"
      ],
      "text/plain": [
       "<pandas.io.formats.style.Styler at 0x29e283fd0>"
      ]
     },
     "metadata": {},
     "output_type": "display_data"
    },
    {
     "data": {
      "text/plain": [
       "<pycaret.classification.oop.ClassificationExperiment at 0x107a6b8e0>"
      ]
     },
     "execution_count": 9,
     "metadata": {},
     "output_type": "execute_result"
    }
   ],
   "source": [
    "from pycaret.classification import ClassificationExperiment\n",
    "s = ClassificationExperiment()\n",
    "s.setup(df, target = 'happy')"
   ]
  },
  {
   "cell_type": "code",
   "execution_count": 10,
   "id": "1ccb834a23db79ed",
   "metadata": {
    "ExecuteTime": {
     "end_time": "2023-09-24T01:49:12.028448Z",
     "start_time": "2023-09-24T01:49:06.084881Z"
    }
   },
   "outputs": [
    {
     "data": {
      "text/html": [],
      "text/plain": [
       "<IPython.core.display.HTML object>"
      ]
     },
     "metadata": {},
     "output_type": "display_data"
    },
    {
     "data": {
      "text/html": [
       "<style type=\"text/css\">\n",
       "#T_a242e th {\n",
       "  text-align: left;\n",
       "}\n",
       "#T_a242e_row0_col0, #T_a242e_row0_col3, #T_a242e_row0_col6, #T_a242e_row0_col7, #T_a242e_row1_col0, #T_a242e_row1_col1, #T_a242e_row1_col2, #T_a242e_row1_col3, #T_a242e_row1_col4, #T_a242e_row1_col5, #T_a242e_row2_col0, #T_a242e_row2_col1, #T_a242e_row2_col2, #T_a242e_row2_col3, #T_a242e_row2_col4, #T_a242e_row2_col5, #T_a242e_row2_col6, #T_a242e_row2_col7, #T_a242e_row3_col0, #T_a242e_row3_col1, #T_a242e_row3_col2, #T_a242e_row3_col3, #T_a242e_row3_col4, #T_a242e_row3_col5, #T_a242e_row3_col6, #T_a242e_row3_col7, #T_a242e_row4_col0, #T_a242e_row4_col1, #T_a242e_row4_col2, #T_a242e_row4_col3, #T_a242e_row4_col4, #T_a242e_row4_col5, #T_a242e_row4_col6, #T_a242e_row4_col7, #T_a242e_row5_col0, #T_a242e_row5_col1, #T_a242e_row5_col2, #T_a242e_row5_col3, #T_a242e_row5_col4, #T_a242e_row5_col5, #T_a242e_row5_col6, #T_a242e_row5_col7, #T_a242e_row6_col0, #T_a242e_row6_col1, #T_a242e_row6_col2, #T_a242e_row6_col3, #T_a242e_row6_col4, #T_a242e_row6_col5, #T_a242e_row6_col6, #T_a242e_row6_col7, #T_a242e_row7_col0, #T_a242e_row7_col1, #T_a242e_row7_col2, #T_a242e_row7_col3, #T_a242e_row7_col4, #T_a242e_row7_col5, #T_a242e_row7_col6, #T_a242e_row7_col7, #T_a242e_row8_col0, #T_a242e_row8_col1, #T_a242e_row8_col2, #T_a242e_row8_col3, #T_a242e_row8_col4, #T_a242e_row8_col5, #T_a242e_row8_col6, #T_a242e_row8_col7, #T_a242e_row9_col0, #T_a242e_row9_col1, #T_a242e_row9_col2, #T_a242e_row9_col3, #T_a242e_row9_col4, #T_a242e_row9_col5, #T_a242e_row9_col6, #T_a242e_row9_col7, #T_a242e_row10_col0, #T_a242e_row10_col1, #T_a242e_row10_col2, #T_a242e_row10_col3, #T_a242e_row10_col4, #T_a242e_row10_col5, #T_a242e_row10_col6, #T_a242e_row10_col7, #T_a242e_row11_col0, #T_a242e_row11_col1, #T_a242e_row11_col2, #T_a242e_row11_col4, #T_a242e_row11_col5, #T_a242e_row11_col6, #T_a242e_row11_col7, #T_a242e_row12_col0, #T_a242e_row12_col1, #T_a242e_row12_col2, #T_a242e_row12_col3, #T_a242e_row12_col4, #T_a242e_row12_col5, #T_a242e_row12_col6, #T_a242e_row12_col7, #T_a242e_row13_col0, #T_a242e_row13_col1, #T_a242e_row13_col2, #T_a242e_row13_col3, #T_a242e_row13_col4, #T_a242e_row13_col5, #T_a242e_row13_col6, #T_a242e_row13_col7 {\n",
       "  text-align: left;\n",
       "}\n",
       "#T_a242e_row0_col1, #T_a242e_row0_col2, #T_a242e_row0_col4, #T_a242e_row0_col5, #T_a242e_row1_col6, #T_a242e_row1_col7, #T_a242e_row11_col3 {\n",
       "  text-align: left;\n",
       "  background-color: yellow;\n",
       "}\n",
       "#T_a242e_row0_col8, #T_a242e_row1_col8, #T_a242e_row2_col8, #T_a242e_row3_col8, #T_a242e_row4_col8, #T_a242e_row5_col8, #T_a242e_row6_col8, #T_a242e_row8_col8, #T_a242e_row9_col8, #T_a242e_row10_col8, #T_a242e_row11_col8, #T_a242e_row12_col8, #T_a242e_row13_col8 {\n",
       "  text-align: left;\n",
       "  background-color: lightgrey;\n",
       "}\n",
       "#T_a242e_row7_col8 {\n",
       "  text-align: left;\n",
       "  background-color: yellow;\n",
       "  background-color: lightgrey;\n",
       "}\n",
       "</style>\n",
       "<table id=\"T_a242e\">\n",
       "  <thead>\n",
       "    <tr>\n",
       "      <th class=\"blank level0\" >&nbsp;</th>\n",
       "      <th id=\"T_a242e_level0_col0\" class=\"col_heading level0 col0\" >Model</th>\n",
       "      <th id=\"T_a242e_level0_col1\" class=\"col_heading level0 col1\" >Accuracy</th>\n",
       "      <th id=\"T_a242e_level0_col2\" class=\"col_heading level0 col2\" >AUC</th>\n",
       "      <th id=\"T_a242e_level0_col3\" class=\"col_heading level0 col3\" >Recall</th>\n",
       "      <th id=\"T_a242e_level0_col4\" class=\"col_heading level0 col4\" >Prec.</th>\n",
       "      <th id=\"T_a242e_level0_col5\" class=\"col_heading level0 col5\" >F1</th>\n",
       "      <th id=\"T_a242e_level0_col6\" class=\"col_heading level0 col6\" >Kappa</th>\n",
       "      <th id=\"T_a242e_level0_col7\" class=\"col_heading level0 col7\" >MCC</th>\n",
       "      <th id=\"T_a242e_level0_col8\" class=\"col_heading level0 col8\" >TT (Sec)</th>\n",
       "    </tr>\n",
       "  </thead>\n",
       "  <tbody>\n",
       "    <tr>\n",
       "      <th id=\"T_a242e_level0_row0\" class=\"row_heading level0 row0\" >gbc</th>\n",
       "      <td id=\"T_a242e_row0_col0\" class=\"data row0 col0\" >Gradient Boosting Classifier</td>\n",
       "      <td id=\"T_a242e_row0_col1\" class=\"data row0 col1\" >0.6833</td>\n",
       "      <td id=\"T_a242e_row0_col2\" class=\"data row0 col2\" >0.7806</td>\n",
       "      <td id=\"T_a242e_row0_col3\" class=\"data row0 col3\" >0.7300</td>\n",
       "      <td id=\"T_a242e_row0_col4\" class=\"data row0 col4\" >0.7129</td>\n",
       "      <td id=\"T_a242e_row0_col5\" class=\"data row0 col5\" >0.7107</td>\n",
       "      <td id=\"T_a242e_row0_col6\" class=\"data row0 col6\" >0.3573</td>\n",
       "      <td id=\"T_a242e_row0_col7\" class=\"data row0 col7\" >0.3770</td>\n",
       "      <td id=\"T_a242e_row0_col8\" class=\"data row0 col8\" >0.0060</td>\n",
       "    </tr>\n",
       "    <tr>\n",
       "      <th id=\"T_a242e_level0_row1\" class=\"row_heading level0 row1\" >xgboost</th>\n",
       "      <td id=\"T_a242e_row1_col0\" class=\"data row1 col0\" >Extreme Gradient Boosting</td>\n",
       "      <td id=\"T_a242e_row1_col1\" class=\"data row1 col1\" >0.6806</td>\n",
       "      <td id=\"T_a242e_row1_col2\" class=\"data row1 col2\" >0.6781</td>\n",
       "      <td id=\"T_a242e_row1_col3\" class=\"data row1 col3\" >0.6650</td>\n",
       "      <td id=\"T_a242e_row1_col4\" class=\"data row1 col4\" >0.7033</td>\n",
       "      <td id=\"T_a242e_row1_col5\" class=\"data row1 col5\" >0.6684</td>\n",
       "      <td id=\"T_a242e_row1_col6\" class=\"data row1 col6\" >0.3687</td>\n",
       "      <td id=\"T_a242e_row1_col7\" class=\"data row1 col7\" >0.3786</td>\n",
       "      <td id=\"T_a242e_row1_col8\" class=\"data row1 col8\" >0.0060</td>\n",
       "    </tr>\n",
       "    <tr>\n",
       "      <th id=\"T_a242e_level0_row2\" class=\"row_heading level0 row2\" >dt</th>\n",
       "      <td id=\"T_a242e_row2_col0\" class=\"data row2 col0\" >Decision Tree Classifier</td>\n",
       "      <td id=\"T_a242e_row2_col1\" class=\"data row2 col1\" >0.6486</td>\n",
       "      <td id=\"T_a242e_row2_col2\" class=\"data row2 col2\" >0.6450</td>\n",
       "      <td id=\"T_a242e_row2_col3\" class=\"data row2 col3\" >0.6450</td>\n",
       "      <td id=\"T_a242e_row2_col4\" class=\"data row2 col4\" >0.7064</td>\n",
       "      <td id=\"T_a242e_row2_col5\" class=\"data row2 col5\" >0.6559</td>\n",
       "      <td id=\"T_a242e_row2_col6\" class=\"data row2 col6\" >0.2949</td>\n",
       "      <td id=\"T_a242e_row2_col7\" class=\"data row2 col7\" >0.3166</td>\n",
       "      <td id=\"T_a242e_row2_col8\" class=\"data row2 col8\" >0.0030</td>\n",
       "    </tr>\n",
       "    <tr>\n",
       "      <th id=\"T_a242e_level0_row3\" class=\"row_heading level0 row3\" >et</th>\n",
       "      <td id=\"T_a242e_row3_col0\" class=\"data row3 col0\" >Extra Trees Classifier</td>\n",
       "      <td id=\"T_a242e_row3_col1\" class=\"data row3 col1\" >0.6139</td>\n",
       "      <td id=\"T_a242e_row3_col2\" class=\"data row3 col2\" >0.6481</td>\n",
       "      <td id=\"T_a242e_row3_col3\" class=\"data row3 col3\" >0.7300</td>\n",
       "      <td id=\"T_a242e_row3_col4\" class=\"data row3 col4\" >0.6206</td>\n",
       "      <td id=\"T_a242e_row3_col5\" class=\"data row3 col5\" >0.6608</td>\n",
       "      <td id=\"T_a242e_row3_col6\" class=\"data row3 col6\" >0.2111</td>\n",
       "      <td id=\"T_a242e_row3_col7\" class=\"data row3 col7\" >0.2358</td>\n",
       "      <td id=\"T_a242e_row3_col8\" class=\"data row3 col8\" >0.0150</td>\n",
       "    </tr>\n",
       "    <tr>\n",
       "      <th id=\"T_a242e_level0_row4\" class=\"row_heading level0 row4\" >qda</th>\n",
       "      <td id=\"T_a242e_row4_col0\" class=\"data row4 col0\" >Quadratic Discriminant Analysis</td>\n",
       "      <td id=\"T_a242e_row4_col1\" class=\"data row4 col1\" >0.6111</td>\n",
       "      <td id=\"T_a242e_row4_col2\" class=\"data row4 col2\" >0.6856</td>\n",
       "      <td id=\"T_a242e_row4_col3\" class=\"data row4 col3\" >0.5550</td>\n",
       "      <td id=\"T_a242e_row4_col4\" class=\"data row4 col4\" >0.6214</td>\n",
       "      <td id=\"T_a242e_row4_col5\" class=\"data row4 col5\" >0.5672</td>\n",
       "      <td id=\"T_a242e_row4_col6\" class=\"data row4 col6\" >0.2327</td>\n",
       "      <td id=\"T_a242e_row4_col7\" class=\"data row4 col7\" >0.2392</td>\n",
       "      <td id=\"T_a242e_row4_col8\" class=\"data row4 col8\" >0.0030</td>\n",
       "    </tr>\n",
       "    <tr>\n",
       "      <th id=\"T_a242e_level0_row5\" class=\"row_heading level0 row5\" >rf</th>\n",
       "      <td id=\"T_a242e_row5_col0\" class=\"data row5 col0\" >Random Forest Classifier</td>\n",
       "      <td id=\"T_a242e_row5_col1\" class=\"data row5 col1\" >0.5903</td>\n",
       "      <td id=\"T_a242e_row5_col2\" class=\"data row5 col2\" >0.6606</td>\n",
       "      <td id=\"T_a242e_row5_col3\" class=\"data row5 col3\" >0.6650</td>\n",
       "      <td id=\"T_a242e_row5_col4\" class=\"data row5 col4\" >0.6106</td>\n",
       "      <td id=\"T_a242e_row5_col5\" class=\"data row5 col5\" >0.6214</td>\n",
       "      <td id=\"T_a242e_row5_col6\" class=\"data row5 col6\" >0.1696</td>\n",
       "      <td id=\"T_a242e_row5_col7\" class=\"data row5 col7\" >0.1942</td>\n",
       "      <td id=\"T_a242e_row5_col8\" class=\"data row5 col8\" >0.0180</td>\n",
       "    </tr>\n",
       "    <tr>\n",
       "      <th id=\"T_a242e_level0_row6\" class=\"row_heading level0 row6\" >ridge</th>\n",
       "      <td id=\"T_a242e_row6_col0\" class=\"data row6 col0\" >Ridge Classifier</td>\n",
       "      <td id=\"T_a242e_row6_col1\" class=\"data row6 col1\" >0.5778</td>\n",
       "      <td id=\"T_a242e_row6_col2\" class=\"data row6 col2\" >0.0000</td>\n",
       "      <td id=\"T_a242e_row6_col3\" class=\"data row6 col3\" >0.7050</td>\n",
       "      <td id=\"T_a242e_row6_col4\" class=\"data row6 col4\" >0.6005</td>\n",
       "      <td id=\"T_a242e_row6_col5\" class=\"data row6 col5\" >0.6458</td>\n",
       "      <td id=\"T_a242e_row6_col6\" class=\"data row6 col6\" >0.1306</td>\n",
       "      <td id=\"T_a242e_row6_col7\" class=\"data row6 col7\" >0.1318</td>\n",
       "      <td id=\"T_a242e_row6_col8\" class=\"data row6 col8\" >0.0030</td>\n",
       "    </tr>\n",
       "    <tr>\n",
       "      <th id=\"T_a242e_level0_row7\" class=\"row_heading level0 row7\" >lda</th>\n",
       "      <td id=\"T_a242e_row7_col0\" class=\"data row7 col0\" >Linear Discriminant Analysis</td>\n",
       "      <td id=\"T_a242e_row7_col1\" class=\"data row7 col1\" >0.5778</td>\n",
       "      <td id=\"T_a242e_row7_col2\" class=\"data row7 col2\" >0.6156</td>\n",
       "      <td id=\"T_a242e_row7_col3\" class=\"data row7 col3\" >0.7050</td>\n",
       "      <td id=\"T_a242e_row7_col4\" class=\"data row7 col4\" >0.6005</td>\n",
       "      <td id=\"T_a242e_row7_col5\" class=\"data row7 col5\" >0.6458</td>\n",
       "      <td id=\"T_a242e_row7_col6\" class=\"data row7 col6\" >0.1306</td>\n",
       "      <td id=\"T_a242e_row7_col7\" class=\"data row7 col7\" >0.1318</td>\n",
       "      <td id=\"T_a242e_row7_col8\" class=\"data row7 col8\" >0.0020</td>\n",
       "    </tr>\n",
       "    <tr>\n",
       "      <th id=\"T_a242e_level0_row8\" class=\"row_heading level0 row8\" >knn</th>\n",
       "      <td id=\"T_a242e_row8_col0\" class=\"data row8 col0\" >K Neighbors Classifier</td>\n",
       "      <td id=\"T_a242e_row8_col1\" class=\"data row8 col1\" >0.5681</td>\n",
       "      <td id=\"T_a242e_row8_col2\" class=\"data row8 col2\" >0.5856</td>\n",
       "      <td id=\"T_a242e_row8_col3\" class=\"data row8 col3\" >0.6500</td>\n",
       "      <td id=\"T_a242e_row8_col4\" class=\"data row8 col4\" >0.6008</td>\n",
       "      <td id=\"T_a242e_row8_col5\" class=\"data row8 col5\" >0.6116</td>\n",
       "      <td id=\"T_a242e_row8_col6\" class=\"data row8 col6\" >0.1249</td>\n",
       "      <td id=\"T_a242e_row8_col7\" class=\"data row8 col7\" >0.1456</td>\n",
       "      <td id=\"T_a242e_row8_col8\" class=\"data row8 col8\" >0.0040</td>\n",
       "    </tr>\n",
       "    <tr>\n",
       "      <th id=\"T_a242e_level0_row9\" class=\"row_heading level0 row9\" >lr</th>\n",
       "      <td id=\"T_a242e_row9_col0\" class=\"data row9 col0\" >Logistic Regression</td>\n",
       "      <td id=\"T_a242e_row9_col1\" class=\"data row9 col1\" >0.5667</td>\n",
       "      <td id=\"T_a242e_row9_col2\" class=\"data row9 col2\" >0.6156</td>\n",
       "      <td id=\"T_a242e_row9_col3\" class=\"data row9 col3\" >0.6850</td>\n",
       "      <td id=\"T_a242e_row9_col4\" class=\"data row9 col4\" >0.5905</td>\n",
       "      <td id=\"T_a242e_row9_col5\" class=\"data row9 col5\" >0.6312</td>\n",
       "      <td id=\"T_a242e_row9_col6\" class=\"data row9 col6\" >0.1110</td>\n",
       "      <td id=\"T_a242e_row9_col7\" class=\"data row9 col7\" >0.1126</td>\n",
       "      <td id=\"T_a242e_row9_col8\" class=\"data row9 col8\" >0.1270</td>\n",
       "    </tr>\n",
       "    <tr>\n",
       "      <th id=\"T_a242e_level0_row10\" class=\"row_heading level0 row10\" >svm</th>\n",
       "      <td id=\"T_a242e_row10_col0\" class=\"data row10 col0\" >SVM - Linear Kernel</td>\n",
       "      <td id=\"T_a242e_row10_col1\" class=\"data row10 col1\" >0.5667</td>\n",
       "      <td id=\"T_a242e_row10_col2\" class=\"data row10 col2\" >0.0000</td>\n",
       "      <td id=\"T_a242e_row10_col3\" class=\"data row10 col3\" >0.8400</td>\n",
       "      <td id=\"T_a242e_row10_col4\" class=\"data row10 col4\" >0.5133</td>\n",
       "      <td id=\"T_a242e_row10_col5\" class=\"data row10 col5\" >0.6338</td>\n",
       "      <td id=\"T_a242e_row10_col6\" class=\"data row10 col6\" >0.0695</td>\n",
       "      <td id=\"T_a242e_row10_col7\" class=\"data row10 col7\" >0.0895</td>\n",
       "      <td id=\"T_a242e_row10_col8\" class=\"data row10 col8\" >0.0030</td>\n",
       "    </tr>\n",
       "    <tr>\n",
       "      <th id=\"T_a242e_level0_row11\" class=\"row_heading level0 row11\" >dummy</th>\n",
       "      <td id=\"T_a242e_row11_col0\" class=\"data row11 col0\" >Dummy Classifier</td>\n",
       "      <td id=\"T_a242e_row11_col1\" class=\"data row11 col1\" >0.5444</td>\n",
       "      <td id=\"T_a242e_row11_col2\" class=\"data row11 col2\" >0.5000</td>\n",
       "      <td id=\"T_a242e_row11_col3\" class=\"data row11 col3\" >1.0000</td>\n",
       "      <td id=\"T_a242e_row11_col4\" class=\"data row11 col4\" >0.5444</td>\n",
       "      <td id=\"T_a242e_row11_col5\" class=\"data row11 col5\" >0.7048</td>\n",
       "      <td id=\"T_a242e_row11_col6\" class=\"data row11 col6\" >0.0000</td>\n",
       "      <td id=\"T_a242e_row11_col7\" class=\"data row11 col7\" >0.0000</td>\n",
       "      <td id=\"T_a242e_row11_col8\" class=\"data row11 col8\" >0.1070</td>\n",
       "    </tr>\n",
       "    <tr>\n",
       "      <th id=\"T_a242e_level0_row12\" class=\"row_heading level0 row12\" >nb</th>\n",
       "      <td id=\"T_a242e_row12_col0\" class=\"data row12 col0\" >Naive Bayes</td>\n",
       "      <td id=\"T_a242e_row12_col1\" class=\"data row12 col1\" >0.5208</td>\n",
       "      <td id=\"T_a242e_row12_col2\" class=\"data row12 col2\" >0.5969</td>\n",
       "      <td id=\"T_a242e_row12_col3\" class=\"data row12 col3\" >0.6400</td>\n",
       "      <td id=\"T_a242e_row12_col4\" class=\"data row12 col4\" >0.5438</td>\n",
       "      <td id=\"T_a242e_row12_col5\" class=\"data row12 col5\" >0.5843</td>\n",
       "      <td id=\"T_a242e_row12_col6\" class=\"data row12 col6\" >0.0156</td>\n",
       "      <td id=\"T_a242e_row12_col7\" class=\"data row12 col7\" >0.0160</td>\n",
       "      <td id=\"T_a242e_row12_col8\" class=\"data row12 col8\" >0.0030</td>\n",
       "    </tr>\n",
       "    <tr>\n",
       "      <th id=\"T_a242e_level0_row13\" class=\"row_heading level0 row13\" >ada</th>\n",
       "      <td id=\"T_a242e_row13_col0\" class=\"data row13 col0\" >Ada Boost Classifier</td>\n",
       "      <td id=\"T_a242e_row13_col1\" class=\"data row13 col1\" >0.5000</td>\n",
       "      <td id=\"T_a242e_row13_col2\" class=\"data row13 col2\" >0.5794</td>\n",
       "      <td id=\"T_a242e_row13_col3\" class=\"data row13 col3\" >0.6250</td>\n",
       "      <td id=\"T_a242e_row13_col4\" class=\"data row13 col4\" >0.5284</td>\n",
       "      <td id=\"T_a242e_row13_col5\" class=\"data row13 col5\" >0.5582</td>\n",
       "      <td id=\"T_a242e_row13_col6\" class=\"data row13 col6\" >-0.0244</td>\n",
       "      <td id=\"T_a242e_row13_col7\" class=\"data row13 col7\" >-0.0289</td>\n",
       "      <td id=\"T_a242e_row13_col8\" class=\"data row13 col8\" >0.0070</td>\n",
       "    </tr>\n",
       "  </tbody>\n",
       "</table>\n"
      ],
      "text/plain": [
       "<pandas.io.formats.style.Styler at 0x29c2e9e20>"
      ]
     },
     "metadata": {},
     "output_type": "display_data"
    },
    {
     "data": {
      "text/html": [],
      "text/plain": [
       "<IPython.core.display.HTML object>"
      ]
     },
     "metadata": {},
     "output_type": "display_data"
    }
   ],
   "source": [
    "best = s.compare_models()"
   ]
  },
  {
   "cell_type": "code",
   "execution_count": null,
   "id": "453dc8d05dc35e54",
   "metadata": {},
   "outputs": [],
   "source": [
    "best"
   ]
  },
  {
   "cell_type": "code",
   "execution_count": null,
   "id": "1ef426b32d421667",
   "metadata": {},
   "outputs": [],
   "source": [
    "print(best)"
   ]
  },
  {
   "cell_type": "code",
   "execution_count": null,
   "id": "7c67323756d1cafe",
   "metadata": {},
   "outputs": [],
   "source": [
    "s.evaluate_model(best)"
   ]
  },
  {
   "cell_type": "code",
   "execution_count": null,
   "id": "c1c451d580c6747c",
   "metadata": {},
   "outputs": [],
   "source": [
    "s.plot_model(best, plot = 'auc')"
   ]
  },
  {
   "cell_type": "code",
   "execution_count": null,
   "id": "11bab06707db9308",
   "metadata": {},
   "outputs": [],
   "source": [
    "s.plot_model(best, plot = 'confusion_matrix')"
   ]
  }
 ],
 "metadata": {
  "kernelspec": {
   "display_name": "Python 3 (ipykernel)",
   "language": "python",
   "name": "python3"
  },
  "language_info": {
   "codemirror_mode": {
    "name": "ipython",
    "version": 3
   },
   "file_extension": ".py",
   "mimetype": "text/x-python",
   "name": "python",
   "nbconvert_exporter": "python",
   "pygments_lexer": "ipython3",
   "version": "3.9.16"
  }
 },
 "nbformat": 4,
 "nbformat_minor": 5
}
