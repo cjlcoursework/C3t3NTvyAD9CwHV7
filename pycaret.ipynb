{
 "cells": [
  {
   "cell_type": "code",
   "execution_count": 1,
   "id": "initial_id",
   "metadata": {
    "ExecuteTime": {
     "end_time": "2023-09-24T02:26:21.287449Z",
     "start_time": "2023-09-24T02:26:21.250881Z"
    }
   },
   "outputs": [],
   "source": [
    "\n",
    "from sklearn.metrics import confusion_matrix, ConfusionMatrixDisplay, precision_score, recall_score, f1_score, roc_curve\n",
    "\n",
    "from pycaret.classification import *\n",
    "import xgboost as xgb\n",
    "import pandas as pd\n",
    "import numpy as np\n",
    "from tqdm.autonotebook import tqdm\n",
    "import warnings"
   ]
  },
  {
   "cell_type": "markdown",
   "id": "ac989f917d1a0ed8",
   "metadata": {},
   "source": [
    "Y = target attribute (Y) with values indicating 0 (unhappy) and 1 (happy) customers\n",
    "X1 = my order was delivered on time\n",
    "X2 = contents of my order was as I expected\n",
    "X3 = I ordered everything I wanted to order\n",
    "X4 = I paid a good price for my order\n",
    "X5 = I am satisfied with my courier\n",
    "X6 = the app makes ordering easy for me\n"
   ]
  },
  {
   "cell_type": "code",
   "execution_count": 2,
   "id": "a14806870c1473ac",
   "metadata": {
    "ExecuteTime": {
     "end_time": "2023-09-24T02:26:21.287860Z",
     "start_time": "2023-09-24T02:26:21.256475Z"
    }
   },
   "outputs": [],
   "source": [
    "df = pd.read_csv('ACME-HappinessSurvey2020.csv', header=0, names=[\n",
    "                     'happy', \n",
    "                     'order_delivered',\n",
    "                     'order_correct',\n",
    "                     'menu_complete',\n",
    "                     'price',\n",
    "                     'courier',\n",
    "                     'app'\n",
    "                 ])"
   ]
  },
  {
   "cell_type": "code",
   "execution_count": 3,
   "id": "27d6e1885daf2720",
   "metadata": {
    "ExecuteTime": {
     "end_time": "2023-09-24T02:26:21.311272Z",
     "start_time": "2023-09-24T02:26:21.289986Z"
    }
   },
   "outputs": [
    {
     "data": {
      "text/plain": [
       "happy              int64\n",
       "order_delivered    int64\n",
       "order_correct      int64\n",
       "menu_complete      int64\n",
       "price              int64\n",
       "courier            int64\n",
       "app                int64\n",
       "dtype: object"
      ]
     },
     "execution_count": 3,
     "metadata": {},
     "output_type": "execute_result"
    }
   ],
   "source": [
    "df.dtypes"
   ]
  },
  {
   "cell_type": "code",
   "execution_count": 4,
   "id": "d6b86d78ac19d701",
   "metadata": {
    "ExecuteTime": {
     "end_time": "2023-09-24T02:26:23.601899Z",
     "start_time": "2023-09-24T02:26:23.587477Z"
    }
   },
   "outputs": [],
   "source": [
    "df = df[['happy','order_delivered', 'menu_complete', 'courier']]"
   ]
  },
  {
   "cell_type": "code",
   "execution_count": 5,
   "id": "25ee11c4f924146d",
   "metadata": {
    "ExecuteTime": {
     "end_time": "2023-09-24T01:22:07.155165Z",
     "start_time": "2023-09-24T01:22:06.792641Z"
    }
   },
   "outputs": [
    {
     "data": {
      "text/html": [
       "<style type=\"text/css\">\n",
       "#T_10d04_row8_col1 {\n",
       "  background-color: lightgreen;\n",
       "}\n",
       "</style>\n",
       "<table id=\"T_10d04\">\n",
       "  <thead>\n",
       "    <tr>\n",
       "      <th class=\"blank level0\" >&nbsp;</th>\n",
       "      <th id=\"T_10d04_level0_col0\" class=\"col_heading level0 col0\" >Description</th>\n",
       "      <th id=\"T_10d04_level0_col1\" class=\"col_heading level0 col1\" >Value</th>\n",
       "    </tr>\n",
       "  </thead>\n",
       "  <tbody>\n",
       "    <tr>\n",
       "      <th id=\"T_10d04_level0_row0\" class=\"row_heading level0 row0\" >0</th>\n",
       "      <td id=\"T_10d04_row0_col0\" class=\"data row0 col0\" >Session id</td>\n",
       "      <td id=\"T_10d04_row0_col1\" class=\"data row0 col1\" >5046</td>\n",
       "    </tr>\n",
       "    <tr>\n",
       "      <th id=\"T_10d04_level0_row1\" class=\"row_heading level0 row1\" >1</th>\n",
       "      <td id=\"T_10d04_row1_col0\" class=\"data row1 col0\" >Target</td>\n",
       "      <td id=\"T_10d04_row1_col1\" class=\"data row1 col1\" >happy</td>\n",
       "    </tr>\n",
       "    <tr>\n",
       "      <th id=\"T_10d04_level0_row2\" class=\"row_heading level0 row2\" >2</th>\n",
       "      <td id=\"T_10d04_row2_col0\" class=\"data row2 col0\" >Target type</td>\n",
       "      <td id=\"T_10d04_row2_col1\" class=\"data row2 col1\" >Binary</td>\n",
       "    </tr>\n",
       "    <tr>\n",
       "      <th id=\"T_10d04_level0_row3\" class=\"row_heading level0 row3\" >3</th>\n",
       "      <td id=\"T_10d04_row3_col0\" class=\"data row3 col0\" >Original data shape</td>\n",
       "      <td id=\"T_10d04_row3_col1\" class=\"data row3 col1\" >(126, 4)</td>\n",
       "    </tr>\n",
       "    <tr>\n",
       "      <th id=\"T_10d04_level0_row4\" class=\"row_heading level0 row4\" >4</th>\n",
       "      <td id=\"T_10d04_row4_col0\" class=\"data row4 col0\" >Transformed data shape</td>\n",
       "      <td id=\"T_10d04_row4_col1\" class=\"data row4 col1\" >(126, 4)</td>\n",
       "    </tr>\n",
       "    <tr>\n",
       "      <th id=\"T_10d04_level0_row5\" class=\"row_heading level0 row5\" >5</th>\n",
       "      <td id=\"T_10d04_row5_col0\" class=\"data row5 col0\" >Transformed train set shape</td>\n",
       "      <td id=\"T_10d04_row5_col1\" class=\"data row5 col1\" >(88, 4)</td>\n",
       "    </tr>\n",
       "    <tr>\n",
       "      <th id=\"T_10d04_level0_row6\" class=\"row_heading level0 row6\" >6</th>\n",
       "      <td id=\"T_10d04_row6_col0\" class=\"data row6 col0\" >Transformed test set shape</td>\n",
       "      <td id=\"T_10d04_row6_col1\" class=\"data row6 col1\" >(38, 4)</td>\n",
       "    </tr>\n",
       "    <tr>\n",
       "      <th id=\"T_10d04_level0_row7\" class=\"row_heading level0 row7\" >7</th>\n",
       "      <td id=\"T_10d04_row7_col0\" class=\"data row7 col0\" >Numeric features</td>\n",
       "      <td id=\"T_10d04_row7_col1\" class=\"data row7 col1\" >3</td>\n",
       "    </tr>\n",
       "    <tr>\n",
       "      <th id=\"T_10d04_level0_row8\" class=\"row_heading level0 row8\" >8</th>\n",
       "      <td id=\"T_10d04_row8_col0\" class=\"data row8 col0\" >Preprocess</td>\n",
       "      <td id=\"T_10d04_row8_col1\" class=\"data row8 col1\" >True</td>\n",
       "    </tr>\n",
       "    <tr>\n",
       "      <th id=\"T_10d04_level0_row9\" class=\"row_heading level0 row9\" >9</th>\n",
       "      <td id=\"T_10d04_row9_col0\" class=\"data row9 col0\" >Imputation type</td>\n",
       "      <td id=\"T_10d04_row9_col1\" class=\"data row9 col1\" >simple</td>\n",
       "    </tr>\n",
       "    <tr>\n",
       "      <th id=\"T_10d04_level0_row10\" class=\"row_heading level0 row10\" >10</th>\n",
       "      <td id=\"T_10d04_row10_col0\" class=\"data row10 col0\" >Numeric imputation</td>\n",
       "      <td id=\"T_10d04_row10_col1\" class=\"data row10 col1\" >mean</td>\n",
       "    </tr>\n",
       "    <tr>\n",
       "      <th id=\"T_10d04_level0_row11\" class=\"row_heading level0 row11\" >11</th>\n",
       "      <td id=\"T_10d04_row11_col0\" class=\"data row11 col0\" >Categorical imputation</td>\n",
       "      <td id=\"T_10d04_row11_col1\" class=\"data row11 col1\" >mode</td>\n",
       "    </tr>\n",
       "    <tr>\n",
       "      <th id=\"T_10d04_level0_row12\" class=\"row_heading level0 row12\" >12</th>\n",
       "      <td id=\"T_10d04_row12_col0\" class=\"data row12 col0\" >Fold Generator</td>\n",
       "      <td id=\"T_10d04_row12_col1\" class=\"data row12 col1\" >StratifiedKFold</td>\n",
       "    </tr>\n",
       "    <tr>\n",
       "      <th id=\"T_10d04_level0_row13\" class=\"row_heading level0 row13\" >13</th>\n",
       "      <td id=\"T_10d04_row13_col0\" class=\"data row13 col0\" >Fold Number</td>\n",
       "      <td id=\"T_10d04_row13_col1\" class=\"data row13 col1\" >10</td>\n",
       "    </tr>\n",
       "    <tr>\n",
       "      <th id=\"T_10d04_level0_row14\" class=\"row_heading level0 row14\" >14</th>\n",
       "      <td id=\"T_10d04_row14_col0\" class=\"data row14 col0\" >CPU Jobs</td>\n",
       "      <td id=\"T_10d04_row14_col1\" class=\"data row14 col1\" >-1</td>\n",
       "    </tr>\n",
       "    <tr>\n",
       "      <th id=\"T_10d04_level0_row15\" class=\"row_heading level0 row15\" >15</th>\n",
       "      <td id=\"T_10d04_row15_col0\" class=\"data row15 col0\" >Use GPU</td>\n",
       "      <td id=\"T_10d04_row15_col1\" class=\"data row15 col1\" >False</td>\n",
       "    </tr>\n",
       "    <tr>\n",
       "      <th id=\"T_10d04_level0_row16\" class=\"row_heading level0 row16\" >16</th>\n",
       "      <td id=\"T_10d04_row16_col0\" class=\"data row16 col0\" >Log Experiment</td>\n",
       "      <td id=\"T_10d04_row16_col1\" class=\"data row16 col1\" >False</td>\n",
       "    </tr>\n",
       "    <tr>\n",
       "      <th id=\"T_10d04_level0_row17\" class=\"row_heading level0 row17\" >17</th>\n",
       "      <td id=\"T_10d04_row17_col0\" class=\"data row17 col0\" >Experiment Name</td>\n",
       "      <td id=\"T_10d04_row17_col1\" class=\"data row17 col1\" >clf-default-name</td>\n",
       "    </tr>\n",
       "    <tr>\n",
       "      <th id=\"T_10d04_level0_row18\" class=\"row_heading level0 row18\" >18</th>\n",
       "      <td id=\"T_10d04_row18_col0\" class=\"data row18 col0\" >USI</td>\n",
       "      <td id=\"T_10d04_row18_col1\" class=\"data row18 col1\" >ad53</td>\n",
       "    </tr>\n",
       "  </tbody>\n",
       "</table>\n"
      ],
      "text/plain": [
       "<pandas.io.formats.style.Styler at 0x283282e20>"
      ]
     },
     "metadata": {},
     "output_type": "display_data"
    },
    {
     "data": {
      "text/plain": [
       "<pycaret.classification.oop.ClassificationExperiment at 0x106086910>"
      ]
     },
     "execution_count": 5,
     "metadata": {},
     "output_type": "execute_result"
    }
   ],
   "source": [
    "from pycaret.classification import ClassificationExperiment\n",
    "s = ClassificationExperiment()\n",
    "s.setup(df, target = 'happy')"
   ]
  },
  {
   "cell_type": "code",
   "execution_count": 6,
   "id": "1ccb834a23db79ed",
   "metadata": {
    "ExecuteTime": {
     "end_time": "2023-09-24T01:22:12.773687Z",
     "start_time": "2023-09-24T01:22:07.156934Z"
    }
   },
   "outputs": [
    {
     "data": {
      "text/html": [],
      "text/plain": [
       "<IPython.core.display.HTML object>"
      ]
     },
     "metadata": {},
     "output_type": "display_data"
    },
    {
     "data": {
      "text/html": [
       "<style type=\"text/css\">\n",
       "#T_6ac42 th {\n",
       "  text-align: left;\n",
       "}\n",
       "#T_6ac42_row0_col0, #T_6ac42_row0_col3, #T_6ac42_row1_col0, #T_6ac42_row1_col1, #T_6ac42_row1_col2, #T_6ac42_row1_col3, #T_6ac42_row1_col4, #T_6ac42_row1_col5, #T_6ac42_row1_col6, #T_6ac42_row1_col7, #T_6ac42_row2_col0, #T_6ac42_row2_col1, #T_6ac42_row2_col2, #T_6ac42_row2_col3, #T_6ac42_row2_col4, #T_6ac42_row2_col5, #T_6ac42_row2_col6, #T_6ac42_row2_col7, #T_6ac42_row3_col0, #T_6ac42_row3_col1, #T_6ac42_row3_col2, #T_6ac42_row3_col3, #T_6ac42_row3_col4, #T_6ac42_row3_col5, #T_6ac42_row3_col6, #T_6ac42_row3_col7, #T_6ac42_row4_col0, #T_6ac42_row4_col1, #T_6ac42_row4_col2, #T_6ac42_row4_col3, #T_6ac42_row4_col4, #T_6ac42_row4_col5, #T_6ac42_row4_col6, #T_6ac42_row4_col7, #T_6ac42_row5_col0, #T_6ac42_row5_col1, #T_6ac42_row5_col2, #T_6ac42_row5_col3, #T_6ac42_row5_col4, #T_6ac42_row5_col5, #T_6ac42_row5_col6, #T_6ac42_row5_col7, #T_6ac42_row6_col0, #T_6ac42_row6_col1, #T_6ac42_row6_col2, #T_6ac42_row6_col3, #T_6ac42_row6_col4, #T_6ac42_row6_col5, #T_6ac42_row6_col6, #T_6ac42_row6_col7, #T_6ac42_row7_col0, #T_6ac42_row7_col1, #T_6ac42_row7_col2, #T_6ac42_row7_col3, #T_6ac42_row7_col4, #T_6ac42_row7_col5, #T_6ac42_row7_col6, #T_6ac42_row7_col7, #T_6ac42_row8_col0, #T_6ac42_row8_col1, #T_6ac42_row8_col2, #T_6ac42_row8_col3, #T_6ac42_row8_col4, #T_6ac42_row8_col5, #T_6ac42_row8_col6, #T_6ac42_row8_col7, #T_6ac42_row9_col0, #T_6ac42_row9_col1, #T_6ac42_row9_col2, #T_6ac42_row9_col3, #T_6ac42_row9_col4, #T_6ac42_row9_col5, #T_6ac42_row9_col6, #T_6ac42_row9_col7, #T_6ac42_row10_col0, #T_6ac42_row10_col1, #T_6ac42_row10_col2, #T_6ac42_row10_col3, #T_6ac42_row10_col4, #T_6ac42_row10_col5, #T_6ac42_row10_col6, #T_6ac42_row10_col7, #T_6ac42_row11_col0, #T_6ac42_row11_col1, #T_6ac42_row11_col2, #T_6ac42_row11_col3, #T_6ac42_row11_col4, #T_6ac42_row11_col5, #T_6ac42_row11_col6, #T_6ac42_row11_col7, #T_6ac42_row12_col0, #T_6ac42_row12_col1, #T_6ac42_row12_col2, #T_6ac42_row12_col4, #T_6ac42_row12_col5, #T_6ac42_row12_col6, #T_6ac42_row12_col7, #T_6ac42_row13_col0, #T_6ac42_row13_col1, #T_6ac42_row13_col2, #T_6ac42_row13_col3, #T_6ac42_row13_col4, #T_6ac42_row13_col5, #T_6ac42_row13_col6, #T_6ac42_row13_col7 {\n",
       "  text-align: left;\n",
       "}\n",
       "#T_6ac42_row0_col1, #T_6ac42_row0_col2, #T_6ac42_row0_col4, #T_6ac42_row0_col5, #T_6ac42_row0_col6, #T_6ac42_row0_col7, #T_6ac42_row12_col3 {\n",
       "  text-align: left;\n",
       "  background-color: yellow;\n",
       "}\n",
       "#T_6ac42_row0_col8, #T_6ac42_row1_col8, #T_6ac42_row2_col8, #T_6ac42_row3_col8, #T_6ac42_row4_col8, #T_6ac42_row5_col8, #T_6ac42_row8_col8, #T_6ac42_row9_col8, #T_6ac42_row10_col8, #T_6ac42_row12_col8, #T_6ac42_row13_col8 {\n",
       "  text-align: left;\n",
       "  background-color: lightgrey;\n",
       "}\n",
       "#T_6ac42_row6_col8, #T_6ac42_row7_col8, #T_6ac42_row11_col8 {\n",
       "  text-align: left;\n",
       "  background-color: yellow;\n",
       "  background-color: lightgrey;\n",
       "}\n",
       "</style>\n",
       "<table id=\"T_6ac42\">\n",
       "  <thead>\n",
       "    <tr>\n",
       "      <th class=\"blank level0\" >&nbsp;</th>\n",
       "      <th id=\"T_6ac42_level0_col0\" class=\"col_heading level0 col0\" >Model</th>\n",
       "      <th id=\"T_6ac42_level0_col1\" class=\"col_heading level0 col1\" >Accuracy</th>\n",
       "      <th id=\"T_6ac42_level0_col2\" class=\"col_heading level0 col2\" >AUC</th>\n",
       "      <th id=\"T_6ac42_level0_col3\" class=\"col_heading level0 col3\" >Recall</th>\n",
       "      <th id=\"T_6ac42_level0_col4\" class=\"col_heading level0 col4\" >Prec.</th>\n",
       "      <th id=\"T_6ac42_level0_col5\" class=\"col_heading level0 col5\" >F1</th>\n",
       "      <th id=\"T_6ac42_level0_col6\" class=\"col_heading level0 col6\" >Kappa</th>\n",
       "      <th id=\"T_6ac42_level0_col7\" class=\"col_heading level0 col7\" >MCC</th>\n",
       "      <th id=\"T_6ac42_level0_col8\" class=\"col_heading level0 col8\" >TT (Sec)</th>\n",
       "    </tr>\n",
       "  </thead>\n",
       "  <tbody>\n",
       "    <tr>\n",
       "      <th id=\"T_6ac42_level0_row0\" class=\"row_heading level0 row0\" >rf</th>\n",
       "      <td id=\"T_6ac42_row0_col0\" class=\"data row0 col0\" >Random Forest Classifier</td>\n",
       "      <td id=\"T_6ac42_row0_col1\" class=\"data row0 col1\" >0.7167</td>\n",
       "      <td id=\"T_6ac42_row0_col2\" class=\"data row0 col2\" >0.6838</td>\n",
       "      <td id=\"T_6ac42_row0_col3\" class=\"data row0 col3\" >0.8150</td>\n",
       "      <td id=\"T_6ac42_row0_col4\" class=\"data row0 col4\" >0.7238</td>\n",
       "      <td id=\"T_6ac42_row0_col5\" class=\"data row0 col5\" >0.7590</td>\n",
       "      <td id=\"T_6ac42_row0_col6\" class=\"data row0 col6\" >0.4175</td>\n",
       "      <td id=\"T_6ac42_row0_col7\" class=\"data row0 col7\" >0.4343</td>\n",
       "      <td id=\"T_6ac42_row0_col8\" class=\"data row0 col8\" >0.0120</td>\n",
       "    </tr>\n",
       "    <tr>\n",
       "      <th id=\"T_6ac42_level0_row1\" class=\"row_heading level0 row1\" >gbc</th>\n",
       "      <td id=\"T_6ac42_row1_col0\" class=\"data row1 col0\" >Gradient Boosting Classifier</td>\n",
       "      <td id=\"T_6ac42_row1_col1\" class=\"data row1 col1\" >0.6694</td>\n",
       "      <td id=\"T_6ac42_row1_col2\" class=\"data row1 col2\" >0.6125</td>\n",
       "      <td id=\"T_6ac42_row1_col3\" class=\"data row1 col3\" >0.7900</td>\n",
       "      <td id=\"T_6ac42_row1_col4\" class=\"data row1 col4\" >0.6813</td>\n",
       "      <td id=\"T_6ac42_row1_col5\" class=\"data row1 col5\" >0.7234</td>\n",
       "      <td id=\"T_6ac42_row1_col6\" class=\"data row1 col6\" >0.3176</td>\n",
       "      <td id=\"T_6ac42_row1_col7\" class=\"data row1 col7\" >0.3386</td>\n",
       "      <td id=\"T_6ac42_row1_col8\" class=\"data row1 col8\" >0.0060</td>\n",
       "    </tr>\n",
       "    <tr>\n",
       "      <th id=\"T_6ac42_level0_row2\" class=\"row_heading level0 row2\" >dt</th>\n",
       "      <td id=\"T_6ac42_row2_col0\" class=\"data row2 col0\" >Decision Tree Classifier</td>\n",
       "      <td id=\"T_6ac42_row2_col1\" class=\"data row2 col1\" >0.6583</td>\n",
       "      <td id=\"T_6ac42_row2_col2\" class=\"data row2 col2\" >0.6619</td>\n",
       "      <td id=\"T_6ac42_row2_col3\" class=\"data row2 col3\" >0.6600</td>\n",
       "      <td id=\"T_6ac42_row2_col4\" class=\"data row2 col4\" >0.6888</td>\n",
       "      <td id=\"T_6ac42_row2_col5\" class=\"data row2 col5\" >0.6651</td>\n",
       "      <td id=\"T_6ac42_row2_col6\" class=\"data row2 col6\" >0.3116</td>\n",
       "      <td id=\"T_6ac42_row2_col7\" class=\"data row2 col7\" >0.3167</td>\n",
       "      <td id=\"T_6ac42_row2_col8\" class=\"data row2 col8\" >0.0030</td>\n",
       "    </tr>\n",
       "    <tr>\n",
       "      <th id=\"T_6ac42_level0_row3\" class=\"row_heading level0 row3\" >xgboost</th>\n",
       "      <td id=\"T_6ac42_row3_col0\" class=\"data row3 col0\" >Extreme Gradient Boosting</td>\n",
       "      <td id=\"T_6ac42_row3_col1\" class=\"data row3 col1\" >0.6361</td>\n",
       "      <td id=\"T_6ac42_row3_col2\" class=\"data row3 col2\" >0.6100</td>\n",
       "      <td id=\"T_6ac42_row3_col3\" class=\"data row3 col3\" >0.7300</td>\n",
       "      <td id=\"T_6ac42_row3_col4\" class=\"data row3 col4\" >0.6560</td>\n",
       "      <td id=\"T_6ac42_row3_col5\" class=\"data row3 col5\" >0.6820</td>\n",
       "      <td id=\"T_6ac42_row3_col6\" class=\"data row3 col6\" >0.2575</td>\n",
       "      <td id=\"T_6ac42_row3_col7\" class=\"data row3 col7\" >0.2634</td>\n",
       "      <td id=\"T_6ac42_row3_col8\" class=\"data row3 col8\" >0.0060</td>\n",
       "    </tr>\n",
       "    <tr>\n",
       "      <th id=\"T_6ac42_level0_row4\" class=\"row_heading level0 row4\" >et</th>\n",
       "      <td id=\"T_6ac42_row4_col0\" class=\"data row4 col0\" >Extra Trees Classifier</td>\n",
       "      <td id=\"T_6ac42_row4_col1\" class=\"data row4 col1\" >0.6347</td>\n",
       "      <td id=\"T_6ac42_row4_col2\" class=\"data row4 col2\" >0.6450</td>\n",
       "      <td id=\"T_6ac42_row4_col3\" class=\"data row4 col3\" >0.6850</td>\n",
       "      <td id=\"T_6ac42_row4_col4\" class=\"data row4 col4\" >0.6571</td>\n",
       "      <td id=\"T_6ac42_row4_col5\" class=\"data row4 col5\" >0.6647</td>\n",
       "      <td id=\"T_6ac42_row4_col6\" class=\"data row4 col6\" >0.2615</td>\n",
       "      <td id=\"T_6ac42_row4_col7\" class=\"data row4 col7\" >0.2675</td>\n",
       "      <td id=\"T_6ac42_row4_col8\" class=\"data row4 col8\" >0.0110</td>\n",
       "    </tr>\n",
       "    <tr>\n",
       "      <th id=\"T_6ac42_level0_row5\" class=\"row_heading level0 row5\" >lr</th>\n",
       "      <td id=\"T_6ac42_row5_col0\" class=\"data row5 col0\" >Logistic Regression</td>\n",
       "      <td id=\"T_6ac42_row5_col1\" class=\"data row5 col1\" >0.6125</td>\n",
       "      <td id=\"T_6ac42_row5_col2\" class=\"data row5 col2\" >0.6762</td>\n",
       "      <td id=\"T_6ac42_row5_col3\" class=\"data row5 col3\" >0.6850</td>\n",
       "      <td id=\"T_6ac42_row5_col4\" class=\"data row5 col4\" >0.6489</td>\n",
       "      <td id=\"T_6ac42_row5_col5\" class=\"data row5 col5\" >0.6540</td>\n",
       "      <td id=\"T_6ac42_row5_col6\" class=\"data row5 col6\" >0.2091</td>\n",
       "      <td id=\"T_6ac42_row5_col7\" class=\"data row5 col7\" >0.2181</td>\n",
       "      <td id=\"T_6ac42_row5_col8\" class=\"data row5 col8\" >0.1570</td>\n",
       "    </tr>\n",
       "    <tr>\n",
       "      <th id=\"T_6ac42_level0_row6\" class=\"row_heading level0 row6\" >ridge</th>\n",
       "      <td id=\"T_6ac42_row6_col0\" class=\"data row6 col0\" >Ridge Classifier</td>\n",
       "      <td id=\"T_6ac42_row6_col1\" class=\"data row6 col1\" >0.6125</td>\n",
       "      <td id=\"T_6ac42_row6_col2\" class=\"data row6 col2\" >0.0000</td>\n",
       "      <td id=\"T_6ac42_row6_col3\" class=\"data row6 col3\" >0.6850</td>\n",
       "      <td id=\"T_6ac42_row6_col4\" class=\"data row6 col4\" >0.6489</td>\n",
       "      <td id=\"T_6ac42_row6_col5\" class=\"data row6 col5\" >0.6540</td>\n",
       "      <td id=\"T_6ac42_row6_col6\" class=\"data row6 col6\" >0.2091</td>\n",
       "      <td id=\"T_6ac42_row6_col7\" class=\"data row6 col7\" >0.2181</td>\n",
       "      <td id=\"T_6ac42_row6_col8\" class=\"data row6 col8\" >0.0020</td>\n",
       "    </tr>\n",
       "    <tr>\n",
       "      <th id=\"T_6ac42_level0_row7\" class=\"row_heading level0 row7\" >lda</th>\n",
       "      <td id=\"T_6ac42_row7_col0\" class=\"data row7 col0\" >Linear Discriminant Analysis</td>\n",
       "      <td id=\"T_6ac42_row7_col1\" class=\"data row7 col1\" >0.6125</td>\n",
       "      <td id=\"T_6ac42_row7_col2\" class=\"data row7 col2\" >0.6338</td>\n",
       "      <td id=\"T_6ac42_row7_col3\" class=\"data row7 col3\" >0.6850</td>\n",
       "      <td id=\"T_6ac42_row7_col4\" class=\"data row7 col4\" >0.6489</td>\n",
       "      <td id=\"T_6ac42_row7_col5\" class=\"data row7 col5\" >0.6540</td>\n",
       "      <td id=\"T_6ac42_row7_col6\" class=\"data row7 col6\" >0.2091</td>\n",
       "      <td id=\"T_6ac42_row7_col7\" class=\"data row7 col7\" >0.2181</td>\n",
       "      <td id=\"T_6ac42_row7_col8\" class=\"data row7 col8\" >0.0020</td>\n",
       "    </tr>\n",
       "    <tr>\n",
       "      <th id=\"T_6ac42_level0_row8\" class=\"row_heading level0 row8\" >knn</th>\n",
       "      <td id=\"T_6ac42_row8_col0\" class=\"data row8 col0\" >K Neighbors Classifier</td>\n",
       "      <td id=\"T_6ac42_row8_col1\" class=\"data row8 col1\" >0.5903</td>\n",
       "      <td id=\"T_6ac42_row8_col2\" class=\"data row8 col2\" >0.5831</td>\n",
       "      <td id=\"T_6ac42_row8_col3\" class=\"data row8 col3\" >0.7300</td>\n",
       "      <td id=\"T_6ac42_row8_col4\" class=\"data row8 col4\" >0.6239</td>\n",
       "      <td id=\"T_6ac42_row8_col5\" class=\"data row8 col5\" >0.6586</td>\n",
       "      <td id=\"T_6ac42_row8_col6\" class=\"data row8 col6\" >0.1550</td>\n",
       "      <td id=\"T_6ac42_row8_col7\" class=\"data row8 col7\" >0.1765</td>\n",
       "      <td id=\"T_6ac42_row8_col8\" class=\"data row8 col8\" >0.0040</td>\n",
       "    </tr>\n",
       "    <tr>\n",
       "      <th id=\"T_6ac42_level0_row9\" class=\"row_heading level0 row9\" >nb</th>\n",
       "      <td id=\"T_6ac42_row9_col0\" class=\"data row9 col0\" >Naive Bayes</td>\n",
       "      <td id=\"T_6ac42_row9_col1\" class=\"data row9 col1\" >0.5778</td>\n",
       "      <td id=\"T_6ac42_row9_col2\" class=\"data row9 col2\" >0.6475</td>\n",
       "      <td id=\"T_6ac42_row9_col3\" class=\"data row9 col3\" >0.7500</td>\n",
       "      <td id=\"T_6ac42_row9_col4\" class=\"data row9 col4\" >0.6013</td>\n",
       "      <td id=\"T_6ac42_row9_col5\" class=\"data row9 col5\" >0.6566</td>\n",
       "      <td id=\"T_6ac42_row9_col6\" class=\"data row9 col6\" >0.1252</td>\n",
       "      <td id=\"T_6ac42_row9_col7\" class=\"data row9 col7\" >0.1461</td>\n",
       "      <td id=\"T_6ac42_row9_col8\" class=\"data row9 col8\" >0.0030</td>\n",
       "    </tr>\n",
       "    <tr>\n",
       "      <th id=\"T_6ac42_level0_row10\" class=\"row_heading level0 row10\" >ada</th>\n",
       "      <td id=\"T_6ac42_row10_col0\" class=\"data row10 col0\" >Ada Boost Classifier</td>\n",
       "      <td id=\"T_6ac42_row10_col1\" class=\"data row10 col1\" >0.5681</td>\n",
       "      <td id=\"T_6ac42_row10_col2\" class=\"data row10 col2\" >0.5950</td>\n",
       "      <td id=\"T_6ac42_row10_col3\" class=\"data row10 col3\" >0.6250</td>\n",
       "      <td id=\"T_6ac42_row10_col4\" class=\"data row10 col4\" >0.6150</td>\n",
       "      <td id=\"T_6ac42_row10_col5\" class=\"data row10 col5\" >0.6159</td>\n",
       "      <td id=\"T_6ac42_row10_col6\" class=\"data row10 col6\" >0.1210</td>\n",
       "      <td id=\"T_6ac42_row10_col7\" class=\"data row10 col7\" >0.1234</td>\n",
       "      <td id=\"T_6ac42_row10_col8\" class=\"data row10 col8\" >0.0070</td>\n",
       "    </tr>\n",
       "    <tr>\n",
       "      <th id=\"T_6ac42_level0_row11\" class=\"row_heading level0 row11\" >qda</th>\n",
       "      <td id=\"T_6ac42_row11_col0\" class=\"data row11 col0\" >Quadratic Discriminant Analysis</td>\n",
       "      <td id=\"T_6ac42_row11_col1\" class=\"data row11 col1\" >0.5569</td>\n",
       "      <td id=\"T_6ac42_row11_col2\" class=\"data row11 col2\" >0.6288</td>\n",
       "      <td id=\"T_6ac42_row11_col3\" class=\"data row11 col3\" >0.7950</td>\n",
       "      <td id=\"T_6ac42_row11_col4\" class=\"data row11 col4\" >0.5696</td>\n",
       "      <td id=\"T_6ac42_row11_col5\" class=\"data row11 col5\" >0.6606</td>\n",
       "      <td id=\"T_6ac42_row11_col6\" class=\"data row11 col6\" >0.0705</td>\n",
       "      <td id=\"T_6ac42_row11_col7\" class=\"data row11 col7\" >0.0829</td>\n",
       "      <td id=\"T_6ac42_row11_col8\" class=\"data row11 col8\" >0.0020</td>\n",
       "    </tr>\n",
       "    <tr>\n",
       "      <th id=\"T_6ac42_level0_row12\" class=\"row_heading level0 row12\" >dummy</th>\n",
       "      <td id=\"T_6ac42_row12_col0\" class=\"data row12 col0\" >Dummy Classifier</td>\n",
       "      <td id=\"T_6ac42_row12_col1\" class=\"data row12 col1\" >0.5444</td>\n",
       "      <td id=\"T_6ac42_row12_col2\" class=\"data row12 col2\" >0.5000</td>\n",
       "      <td id=\"T_6ac42_row12_col3\" class=\"data row12 col3\" >1.0000</td>\n",
       "      <td id=\"T_6ac42_row12_col4\" class=\"data row12 col4\" >0.5444</td>\n",
       "      <td id=\"T_6ac42_row12_col5\" class=\"data row12 col5\" >0.7048</td>\n",
       "      <td id=\"T_6ac42_row12_col6\" class=\"data row12 col6\" >0.0000</td>\n",
       "      <td id=\"T_6ac42_row12_col7\" class=\"data row12 col7\" >0.0000</td>\n",
       "      <td id=\"T_6ac42_row12_col8\" class=\"data row12 col8\" >0.1070</td>\n",
       "    </tr>\n",
       "    <tr>\n",
       "      <th id=\"T_6ac42_level0_row13\" class=\"row_heading level0 row13\" >svm</th>\n",
       "      <td id=\"T_6ac42_row13_col0\" class=\"data row13 col0\" >SVM - Linear Kernel</td>\n",
       "      <td id=\"T_6ac42_row13_col1\" class=\"data row13 col1\" >0.5014</td>\n",
       "      <td id=\"T_6ac42_row13_col2\" class=\"data row13 col2\" >0.0000</td>\n",
       "      <td id=\"T_6ac42_row13_col3\" class=\"data row13 col3\" >0.3600</td>\n",
       "      <td id=\"T_6ac42_row13_col4\" class=\"data row13 col4\" >0.3227</td>\n",
       "      <td id=\"T_6ac42_row13_col5\" class=\"data row13 col5\" >0.2990</td>\n",
       "      <td id=\"T_6ac42_row13_col6\" class=\"data row13 col6\" >0.0316</td>\n",
       "      <td id=\"T_6ac42_row13_col7\" class=\"data row13 col7\" >0.0478</td>\n",
       "      <td id=\"T_6ac42_row13_col8\" class=\"data row13 col8\" >0.0030</td>\n",
       "    </tr>\n",
       "  </tbody>\n",
       "</table>\n"
      ],
      "text/plain": [
       "<pandas.io.formats.style.Styler at 0x282a35340>"
      ]
     },
     "metadata": {},
     "output_type": "display_data"
    },
    {
     "data": {
      "text/html": [],
      "text/plain": [
       "<IPython.core.display.HTML object>"
      ]
     },
     "metadata": {},
     "output_type": "display_data"
    }
   ],
   "source": [
    "best = s.compare_models()"
   ]
  },
  {
   "cell_type": "code",
   "execution_count": 7,
   "id": "453dc8d05dc35e54",
   "metadata": {
    "ExecuteTime": {
     "end_time": "2023-09-24T01:22:12.774524Z",
     "start_time": "2023-09-24T01:22:12.773100Z"
    }
   },
   "outputs": [
    {
     "data": {
      "text/html": [
       "<style>#sk-container-id-1 {color: black;background-color: white;}#sk-container-id-1 pre{padding: 0;}#sk-container-id-1 div.sk-toggleable {background-color: white;}#sk-container-id-1 label.sk-toggleable__label {cursor: pointer;display: block;width: 100%;margin-bottom: 0;padding: 0.3em;box-sizing: border-box;text-align: center;}#sk-container-id-1 label.sk-toggleable__label-arrow:before {content: \"▸\";float: left;margin-right: 0.25em;color: #696969;}#sk-container-id-1 label.sk-toggleable__label-arrow:hover:before {color: black;}#sk-container-id-1 div.sk-estimator:hover label.sk-toggleable__label-arrow:before {color: black;}#sk-container-id-1 div.sk-toggleable__content {max-height: 0;max-width: 0;overflow: hidden;text-align: left;background-color: #f0f8ff;}#sk-container-id-1 div.sk-toggleable__content pre {margin: 0.2em;color: black;border-radius: 0.25em;background-color: #f0f8ff;}#sk-container-id-1 input.sk-toggleable__control:checked~div.sk-toggleable__content {max-height: 200px;max-width: 100%;overflow: auto;}#sk-container-id-1 input.sk-toggleable__control:checked~label.sk-toggleable__label-arrow:before {content: \"▾\";}#sk-container-id-1 div.sk-estimator input.sk-toggleable__control:checked~label.sk-toggleable__label {background-color: #d4ebff;}#sk-container-id-1 div.sk-label input.sk-toggleable__control:checked~label.sk-toggleable__label {background-color: #d4ebff;}#sk-container-id-1 input.sk-hidden--visually {border: 0;clip: rect(1px 1px 1px 1px);clip: rect(1px, 1px, 1px, 1px);height: 1px;margin: -1px;overflow: hidden;padding: 0;position: absolute;width: 1px;}#sk-container-id-1 div.sk-estimator {font-family: monospace;background-color: #f0f8ff;border: 1px dotted black;border-radius: 0.25em;box-sizing: border-box;margin-bottom: 0.5em;}#sk-container-id-1 div.sk-estimator:hover {background-color: #d4ebff;}#sk-container-id-1 div.sk-parallel-item::after {content: \"\";width: 100%;border-bottom: 1px solid gray;flex-grow: 1;}#sk-container-id-1 div.sk-label:hover label.sk-toggleable__label {background-color: #d4ebff;}#sk-container-id-1 div.sk-serial::before {content: \"\";position: absolute;border-left: 1px solid gray;box-sizing: border-box;top: 0;bottom: 0;left: 50%;z-index: 0;}#sk-container-id-1 div.sk-serial {display: flex;flex-direction: column;align-items: center;background-color: white;padding-right: 0.2em;padding-left: 0.2em;position: relative;}#sk-container-id-1 div.sk-item {position: relative;z-index: 1;}#sk-container-id-1 div.sk-parallel {display: flex;align-items: stretch;justify-content: center;background-color: white;position: relative;}#sk-container-id-1 div.sk-item::before, #sk-container-id-1 div.sk-parallel-item::before {content: \"\";position: absolute;border-left: 1px solid gray;box-sizing: border-box;top: 0;bottom: 0;left: 50%;z-index: -1;}#sk-container-id-1 div.sk-parallel-item {display: flex;flex-direction: column;z-index: 1;position: relative;background-color: white;}#sk-container-id-1 div.sk-parallel-item:first-child::after {align-self: flex-end;width: 50%;}#sk-container-id-1 div.sk-parallel-item:last-child::after {align-self: flex-start;width: 50%;}#sk-container-id-1 div.sk-parallel-item:only-child::after {width: 0;}#sk-container-id-1 div.sk-dashed-wrapped {border: 1px dashed gray;margin: 0 0.4em 0.5em 0.4em;box-sizing: border-box;padding-bottom: 0.4em;background-color: white;}#sk-container-id-1 div.sk-label label {font-family: monospace;font-weight: bold;display: inline-block;line-height: 1.2em;}#sk-container-id-1 div.sk-label-container {text-align: center;}#sk-container-id-1 div.sk-container {/* jupyter's `normalize.less` sets `[hidden] { display: none; }` but bootstrap.min.css set `[hidden] { display: none !important; }` so we also need the `!important` here to be able to override the default hidden behavior on the sphinx rendered scikit-learn.org. See: https://github.com/scikit-learn/scikit-learn/issues/21755 */display: inline-block !important;position: relative;}#sk-container-id-1 div.sk-text-repr-fallback {display: none;}</style><div id=\"sk-container-id-1\" class=\"sk-top-container\"><div class=\"sk-text-repr-fallback\"><pre>RandomForestClassifier(bootstrap=True, ccp_alpha=0.0, class_weight=None,\n",
       "                       criterion=&#x27;gini&#x27;, max_depth=None, max_features=&#x27;sqrt&#x27;,\n",
       "                       max_leaf_nodes=None, max_samples=None,\n",
       "                       min_impurity_decrease=0.0, min_samples_leaf=1,\n",
       "                       min_samples_split=2, min_weight_fraction_leaf=0.0,\n",
       "                       n_estimators=100, n_jobs=-1, oob_score=False,\n",
       "                       random_state=5046, verbose=0, warm_start=False)</pre><b>In a Jupyter environment, please rerun this cell to show the HTML representation or trust the notebook. <br />On GitHub, the HTML representation is unable to render, please try loading this page with nbviewer.org.</b></div><div class=\"sk-container\" hidden><div class=\"sk-item\"><div class=\"sk-estimator sk-toggleable\"><input class=\"sk-toggleable__control sk-hidden--visually\" id=\"sk-estimator-id-1\" type=\"checkbox\" checked><label for=\"sk-estimator-id-1\" class=\"sk-toggleable__label sk-toggleable__label-arrow\">RandomForestClassifier</label><div class=\"sk-toggleable__content\"><pre>RandomForestClassifier(bootstrap=True, ccp_alpha=0.0, class_weight=None,\n",
       "                       criterion=&#x27;gini&#x27;, max_depth=None, max_features=&#x27;sqrt&#x27;,\n",
       "                       max_leaf_nodes=None, max_samples=None,\n",
       "                       min_impurity_decrease=0.0, min_samples_leaf=1,\n",
       "                       min_samples_split=2, min_weight_fraction_leaf=0.0,\n",
       "                       n_estimators=100, n_jobs=-1, oob_score=False,\n",
       "                       random_state=5046, verbose=0, warm_start=False)</pre></div></div></div></div></div>"
      ],
      "text/plain": [
       "RandomForestClassifier(bootstrap=True, ccp_alpha=0.0, class_weight=None,\n",
       "                       criterion='gini', max_depth=None, max_features='sqrt',\n",
       "                       max_leaf_nodes=None, max_samples=None,\n",
       "                       min_impurity_decrease=0.0, min_samples_leaf=1,\n",
       "                       min_samples_split=2, min_weight_fraction_leaf=0.0,\n",
       "                       n_estimators=100, n_jobs=-1, oob_score=False,\n",
       "                       random_state=5046, verbose=0, warm_start=False)"
      ]
     },
     "execution_count": 7,
     "metadata": {},
     "output_type": "execute_result"
    }
   ],
   "source": [
    "best"
   ]
  },
  {
   "cell_type": "code",
   "execution_count": 8,
   "id": "1ef426b32d421667",
   "metadata": {
    "ExecuteTime": {
     "end_time": "2023-09-24T01:22:12.785350Z",
     "start_time": "2023-09-24T01:22:12.775017Z"
    }
   },
   "outputs": [
    {
     "name": "stdout",
     "output_type": "stream",
     "text": [
      "RandomForestClassifier(bootstrap=True, ccp_alpha=0.0, class_weight=None,\n",
      "                       criterion='gini', max_depth=None, max_features='sqrt',\n",
      "                       max_leaf_nodes=None, max_samples=None,\n",
      "                       min_impurity_decrease=0.0, min_samples_leaf=1,\n",
      "                       min_samples_split=2, min_weight_fraction_leaf=0.0,\n",
      "                       n_estimators=100, n_jobs=-1, oob_score=False,\n",
      "                       random_state=5046, verbose=0, warm_start=False)\n"
     ]
    }
   ],
   "source": [
    "print(best)"
   ]
  },
  {
   "cell_type": "code",
   "execution_count": 8,
   "id": "7c67323756d1cafe",
   "metadata": {
    "ExecuteTime": {
     "end_time": "2023-09-24T01:22:12.933295Z",
     "start_time": "2023-09-24T01:22:12.777532Z"
    }
   },
   "outputs": [
    {
     "data": {
      "application/vnd.jupyter.widget-view+json": {
       "model_id": "548f0538f79d481f8a74e29772ed826d",
       "version_major": 2,
       "version_minor": 0
      },
      "text/plain": [
       "interactive(children=(ToggleButtons(description='Plot Type:', icons=('',), options=(('Pipeline Plot', 'pipelin…"
      ]
     },
     "metadata": {},
     "output_type": "display_data"
    }
   ],
   "source": [
    "s.evaluate_model(best)"
   ]
  },
  {
   "cell_type": "code",
   "execution_count": 9,
   "id": "c1c451d580c6747c",
   "metadata": {
    "ExecuteTime": {
     "end_time": "2023-09-24T01:22:13.143648Z",
     "start_time": "2023-09-24T01:22:12.931893Z"
    }
   },
   "outputs": [
    {
     "data": {
      "text/html": [],
      "text/plain": [
       "<IPython.core.display.HTML object>"
      ]
     },
     "metadata": {},
     "output_type": "display_data"
    },
    {
     "data": {
      "image/png": "[encoded data removed]",
      "text/plain": [
       "<Figure size 800x550 with 1 Axes>"
      ]
     },
     "metadata": {},
     "output_type": "display_data"
    }
   ],
   "source": [
    "s.plot_model(best, plot = 'auc')"
   ]
  },
  {
   "cell_type": "code",
   "execution_count": 10,
   "id": "11bab06707db9308",
   "metadata": {
    "ExecuteTime": {
     "end_time": "2023-09-24T01:22:13.287209Z",
     "start_time": "2023-09-24T01:22:13.144275Z"
    }
   },
   "outputs": [
    {
     "data": {
      "text/html": [],
      "text/plain": [
       "<IPython.core.display.HTML object>"
      ]
     },
     "metadata": {},
     "output_type": "display_data"
    },
    {
     "data": {
      "image/png": "[encoded data removed]",
      "text/plain": [
       "<Figure size 800x550 with 1 Axes>"
      ]
     },
     "metadata": {},
     "output_type": "display_data"
    }
   ],
   "source": [
    "s.plot_model(best, plot = 'confusion_matrix')"
   ]
  }
 ],
 "metadata": {
  "kernelspec": {
   "display_name": "Python 3 (ipykernel)",
   "language": "python",
   "name": "python3"
  },
  "language_info": {
   "codemirror_mode": {
    "name": "ipython",
    "version": 3
   },
   "file_extension": ".py",
   "mimetype": "text/x-python",
   "name": "python",
   "nbconvert_exporter": "python",
   "pygments_lexer": "ipython3",
   "version": "3.9.16"
  }
 },
 "nbformat": 4,
 "nbformat_minor": 5
}
